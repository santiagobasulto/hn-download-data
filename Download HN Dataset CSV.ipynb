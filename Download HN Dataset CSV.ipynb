{
 "cells": [
  {
   "cell_type": "code",
   "execution_count": 14,
   "metadata": {},
   "outputs": [],
   "source": [
    "import csv\n",
    "import json\n",
    "import sqlite3\n",
    "from pathlib import Path\n",
    "\n",
    "#from itertools import islice, count\n",
    "import itertools\n",
    "from datetime import datetime\n",
    "import numpy as np\n",
    "import pandas as pd\n",
    "from hn import search_by_date"
   ]
  },
  {
   "cell_type": "code",
   "execution_count": 15,
   "metadata": {},
   "outputs": [],
   "source": [
    "def get_type(post):\n",
    "    tags = post['_tags']\n",
    "    if len(tags) == 3 or (len(tags) == 4 and tags[-1] == 'front_page'):\n",
    "        return tags[0]\n",
    "    elif len(tags) == 4:\n",
    "        return tags[-1]\n",
    "\n",
    "    return tags[-2]\n"
   ]
  },
  {
   "cell_type": "markdown",
   "metadata": {},
   "source": [
    "##### Updated with latest posts"
   ]
  },
  {
   "cell_type": "code",
   "execution_count": 16,
   "metadata": {
    "scrolled": true
   },
   "outputs": [
    {
     "data": {
      "text/plain": [
       "['Object ID',\n",
       " 'Title',\n",
       " 'Post Type',\n",
       " 'Author',\n",
       " 'Created At',\n",
       " 'URL',\n",
       " 'Points',\n",
       " 'Number of Comments']"
      ]
     },
     "execution_count": 16,
     "metadata": {},
     "output_type": "execute_result"
    }
   ],
   "source": [
    "COLUMNS_STR = \"Object ID,Title,Post Type,Author,Created At,URL,Points,Number of Comments\"\n",
    "COLUMNS = COLUMNS_STR.split(',')\n",
    "COLUMNS"
   ]
  },
  {
   "cell_type": "code",
   "execution_count": 17,
   "metadata": {},
   "outputs": [],
   "source": [
    "BASE_DATA_DIRECTORY = Path('hn_data/')\n",
    "assert BASE_DATA_DIRECTORY.exists()"
   ]
  },
  {
   "cell_type": "code",
   "execution_count": 18,
   "metadata": {},
   "outputs": [],
   "source": [
    "MAIN_DATA_FILE = BASE_DATA_DIRECTORY / 'hn.csv'  # new data will be appended to this file"
   ]
  },
  {
   "cell_type": "code",
   "execution_count": 19,
   "metadata": {},
   "outputs": [],
   "source": [
    "LIMIT = 5000\n",
    "BUFFER_SIZE = 1024 * 1024 * 100"
   ]
  },
  {
   "cell_type": "markdown",
   "metadata": {},
   "source": [
    "First record:"
   ]
  },
  {
   "cell_type": "code",
   "execution_count": 20,
   "metadata": {
    "scrolled": true
   },
   "outputs": [
    {
     "data": {
      "text/html": [
       "<div>\n",
       "<style scoped>\n",
       "    .dataframe tbody tr th:only-of-type {\n",
       "        vertical-align: middle;\n",
       "    }\n",
       "\n",
       "    .dataframe tbody tr th {\n",
       "        vertical-align: top;\n",
       "    }\n",
       "\n",
       "    .dataframe thead th {\n",
       "        text-align: right;\n",
       "    }\n",
       "</style>\n",
       "<table border=\"1\" class=\"dataframe\">\n",
       "  <thead>\n",
       "    <tr style=\"text-align: right;\">\n",
       "      <th></th>\n",
       "      <th>Object ID</th>\n",
       "      <th>Title</th>\n",
       "      <th>Post Type</th>\n",
       "      <th>Author</th>\n",
       "      <th>Created At</th>\n",
       "      <th>URL</th>\n",
       "      <th>Points</th>\n",
       "      <th>Number of Comments</th>\n",
       "    </tr>\n",
       "  </thead>\n",
       "  <tbody>\n",
       "    <tr>\n",
       "      <th>0</th>\n",
       "      <td>1</td>\n",
       "      <td>Y Combinator</td>\n",
       "      <td>story</td>\n",
       "      <td>pg</td>\n",
       "      <td>2006-10-09 18:21:51</td>\n",
       "      <td>http://ycombinator.com</td>\n",
       "      <td>61</td>\n",
       "      <td>18.0</td>\n",
       "    </tr>\n",
       "  </tbody>\n",
       "</table>\n",
       "</div>"
      ],
      "text/plain": [
       "   Object ID         Title Post Type Author           Created At  \\\n",
       "0          1  Y Combinator     story     pg  2006-10-09 18:21:51   \n",
       "\n",
       "                      URL  Points  Number of Comments  \n",
       "0  http://ycombinator.com      61                18.0  "
      ]
     },
     "execution_count": 20,
     "metadata": {},
     "output_type": "execute_result"
    }
   ],
   "source": [
    "pd.read_csv(MAIN_DATA_FILE, nrows=1)"
   ]
  },
  {
   "cell_type": "markdown",
   "metadata": {},
   "source": [
    "Parse posts already downloaded:"
   ]
  },
  {
   "cell_type": "code",
   "execution_count": 34,
   "metadata": {},
   "outputs": [],
   "source": [
    "df = pd.read_csv(\n",
    "    'hn_data/hn.csv', #index_col='Object ID',\n",
    "    dtype={\n",
    "        'Post Type': 'category'\n",
    "    }, parse_dates=['Created At'])"
   ]
  },
  {
   "cell_type": "markdown",
   "metadata": {},
   "source": [
    "Make sure file is sorted by Created At:"
   ]
  },
  {
   "cell_type": "code",
   "execution_count": 38,
   "metadata": {},
   "outputs": [],
   "source": [
    "assert df['Created At'].max() == df.iloc[-1]['Created At']"
   ]
  },
  {
   "cell_type": "code",
   "execution_count": 64,
   "metadata": {},
   "outputs": [
    {
     "data": {
      "text/plain": [
       "Timestamp('2019-03-31 22:07:47')"
      ]
     },
     "execution_count": 64,
     "metadata": {},
     "output_type": "execute_result"
    }
   ],
   "source": [
    "last_datetime = df.iloc[-1]['Created At']\n",
    "last_datetime"
   ]
  },
  {
   "cell_type": "markdown",
   "metadata": {},
   "source": [
    "Adding time padding to make sure we get every object:"
   ]
  },
  {
   "cell_type": "code",
   "execution_count": 81,
   "metadata": {},
   "outputs": [],
   "source": [
    "results = search_by_date(\n",
    "    stories=True, ask_hn=True, show_hn=True, polls=True, hits_per_page=1000,\n",
    "    created_at__gt=last_datetime.strftime('%Y-%m-%d %H:%M:%S'))"
   ]
  },
  {
   "cell_type": "code",
   "execution_count": 82,
   "metadata": {
    "scrolled": true
   },
   "outputs": [
    {
     "name": "stdout",
     "output_type": "stream",
     "text": [
      "New data will be saved into 'partial_hn.csv'\n"
     ]
    }
   ],
   "source": [
    "#NEW_FILE_NAME = f\"partial_hn_{int(datetime.utcnow().timestamp())}.csv\"\n",
    "NEW_FILE_NAME = f\"partial_hn.csv\"\n",
    "NEW_FILE_PATH = BASE_DATA_DIRECTORY / NEW_FILE_NAME\n",
    "print(f\"New data will be saved into '{NEW_FILE_NAME}'\")"
   ]
  },
  {
   "cell_type": "code",
   "execution_count": 83,
   "metadata": {
    "scrolled": true
   },
   "outputs": [
    {
     "name": "stdout",
     "output_type": "stream",
     "text": [
      "Saved 10000 records\n",
      "Saved 20000 records\n",
      "Saved 30000 records\n",
      "Saved 40000 records\n",
      "Saved 50000 records\n",
      "Saved 60000 records\n",
      "DONE. No more posts to process.\n"
     ]
    }
   ],
   "source": [
    "#assert False, \"WARNING: Comment me out\"\n",
    "\n",
    "with NEW_FILE_PATH.open('w', buffering=BUFFER_SIZE) as fp:\n",
    "    writer = csv.writer(fp)\n",
    "    for step in itertools.count():\n",
    "        chunk = itertools.islice(results, 1000)\n",
    "        posts = [(\n",
    "            post['objectID'],\n",
    "            post['title'],\n",
    "            get_type(post),\n",
    "            post['author'],\n",
    "            post['created_at_i'],\n",
    "            post['url'],\n",
    "            post['points'],\n",
    "            post['num_comments'],\n",
    "        ) for post in chunk]\n",
    "        if not posts:\n",
    "            print(\"DONE. No more posts to process.\")\n",
    "            break\n",
    "        if step > LIMIT:\n",
    "            print(\"Limit %s exceeded. Quitting.\" % LIMIT)\n",
    "            break\n",
    "\n",
    "        writer.writerows(posts)\n",
    "        if (step + 1) % 10 == 0:\n",
    "            print(\"Saved %s records\" % ((step + 1) * 1000))"
   ]
  },
  {
   "cell_type": "markdown",
   "metadata": {},
   "source": [
    "New downloaded partial file:"
   ]
  },
  {
   "cell_type": "code",
   "execution_count": 84,
   "metadata": {
    "scrolled": true
   },
   "outputs": [
    {
     "name": "stdout",
     "output_type": "stream",
     "text": [
      "   63497 hn_data/partial_hn.csv\r\n"
     ]
    }
   ],
   "source": [
    "!wc -l hn_data/partial_hn.csv"
   ]
  },
  {
   "cell_type": "markdown",
   "metadata": {},
   "source": [
    "### Concatenate both parts"
   ]
  },
  {
   "cell_type": "code",
   "execution_count": 85,
   "metadata": {},
   "outputs": [
    {
     "data": {
      "text/plain": [
       "array(['Object ID', 'Title', 'Post Type', 'Author', 'Created At', 'URL',\n",
       "       'Points', 'Number of Comments'], dtype=object)"
      ]
     },
     "execution_count": 85,
     "metadata": {},
     "output_type": "execute_result"
    }
   ],
   "source": [
    "df.columns.values"
   ]
  },
  {
   "cell_type": "code",
   "execution_count": 86,
   "metadata": {},
   "outputs": [],
   "source": [
    "partial = pd.read_csv(\n",
    "    'hn_data/partial_hn.csv',\n",
    "    dtype={\n",
    "        'Post Type': 'category'\n",
    "    }, names=df.columns.values)"
   ]
  },
  {
   "cell_type": "code",
   "execution_count": 87,
   "metadata": {},
   "outputs": [],
   "source": [
    "partial['Created At'] = pd.to_datetime(partial['Created At'], unit='s')"
   ]
  },
  {
   "cell_type": "code",
   "execution_count": 88,
   "metadata": {},
   "outputs": [
    {
     "data": {
      "text/plain": [
       "False"
      ]
     },
     "execution_count": 88,
     "metadata": {},
     "output_type": "execute_result"
    }
   ],
   "source": [
    "partial['Created At'].is_monotonic"
   ]
  },
  {
   "cell_type": "code",
   "execution_count": 89,
   "metadata": {},
   "outputs": [],
   "source": [
    "partial.sort_values(by=['Created At'], inplace=True)"
   ]
  },
  {
   "cell_type": "code",
   "execution_count": 90,
   "metadata": {},
   "outputs": [
    {
     "data": {
      "text/html": [
       "<div>\n",
       "<style scoped>\n",
       "    .dataframe tbody tr th:only-of-type {\n",
       "        vertical-align: middle;\n",
       "    }\n",
       "\n",
       "    .dataframe tbody tr th {\n",
       "        vertical-align: top;\n",
       "    }\n",
       "\n",
       "    .dataframe thead th {\n",
       "        text-align: right;\n",
       "    }\n",
       "</style>\n",
       "<table border=\"1\" class=\"dataframe\">\n",
       "  <thead>\n",
       "    <tr style=\"text-align: right;\">\n",
       "      <th></th>\n",
       "      <th>Object ID</th>\n",
       "      <th>Title</th>\n",
       "      <th>Post Type</th>\n",
       "      <th>Author</th>\n",
       "      <th>Created At</th>\n",
       "      <th>URL</th>\n",
       "      <th>Points</th>\n",
       "      <th>Number of Comments</th>\n",
       "    </tr>\n",
       "  </thead>\n",
       "  <tbody>\n",
       "    <tr>\n",
       "      <th>63496</th>\n",
       "      <td>19538773</td>\n",
       "      <td>Innovations in Scientific Publishing</td>\n",
       "      <td>story</td>\n",
       "      <td>juretriglav</td>\n",
       "      <td>2019-03-31 22:13:42</td>\n",
       "      <td>https://juretriglav.si/innovations-in-scientif...</td>\n",
       "      <td>2</td>\n",
       "      <td>0</td>\n",
       "    </tr>\n",
       "    <tr>\n",
       "      <th>63495</th>\n",
       "      <td>19538779</td>\n",
       "      <td>WordPress theme provider Pipdig using customer...</td>\n",
       "      <td>story</td>\n",
       "      <td>JamieF1</td>\n",
       "      <td>2019-03-31 22:14:40</td>\n",
       "      <td>https://www.jemjabella.co.uk/2019/security-ale...</td>\n",
       "      <td>325</td>\n",
       "      <td>81</td>\n",
       "    </tr>\n",
       "    <tr>\n",
       "      <th>63494</th>\n",
       "      <td>19538814</td>\n",
       "      <td>The big picture: Scott Walker, 1943-2019</td>\n",
       "      <td>story</td>\n",
       "      <td>drugme</td>\n",
       "      <td>2019-03-31 22:21:27</td>\n",
       "      <td>https://www.theguardian.com/music/2019/mar/31/...</td>\n",
       "      <td>2</td>\n",
       "      <td>0</td>\n",
       "    </tr>\n",
       "    <tr>\n",
       "      <th>63493</th>\n",
       "      <td>19538839</td>\n",
       "      <td>Succulent Poaching in California</td>\n",
       "      <td>story</td>\n",
       "      <td>mykowebhn</td>\n",
       "      <td>2019-03-31 22:28:36</td>\n",
       "      <td>https://www.sfgate.com/science/article/poachin...</td>\n",
       "      <td>66</td>\n",
       "      <td>15</td>\n",
       "    </tr>\n",
       "    <tr>\n",
       "      <th>63492</th>\n",
       "      <td>19538845</td>\n",
       "      <td>Intel’s First Confirmed Xe GPU Product: The Au...</td>\n",
       "      <td>story</td>\n",
       "      <td>rbanffy</td>\n",
       "      <td>2019-03-31 22:30:02</td>\n",
       "      <td>https://wccftech.com/intels-first-confirmed-xe...</td>\n",
       "      <td>6</td>\n",
       "      <td>0</td>\n",
       "    </tr>\n",
       "  </tbody>\n",
       "</table>\n",
       "</div>"
      ],
      "text/plain": [
       "       Object ID                                              Title Post Type  \\\n",
       "63496   19538773               Innovations in Scientific Publishing     story   \n",
       "63495   19538779  WordPress theme provider Pipdig using customer...     story   \n",
       "63494   19538814           The big picture: Scott Walker, 1943-2019     story   \n",
       "63493   19538839                   Succulent Poaching in California     story   \n",
       "63492   19538845  Intel’s First Confirmed Xe GPU Product: The Au...     story   \n",
       "\n",
       "            Author          Created At  \\\n",
       "63496  juretriglav 2019-03-31 22:13:42   \n",
       "63495      JamieF1 2019-03-31 22:14:40   \n",
       "63494       drugme 2019-03-31 22:21:27   \n",
       "63493    mykowebhn 2019-03-31 22:28:36   \n",
       "63492      rbanffy 2019-03-31 22:30:02   \n",
       "\n",
       "                                                     URL  Points  \\\n",
       "63496  https://juretriglav.si/innovations-in-scientif...       2   \n",
       "63495  https://www.jemjabella.co.uk/2019/security-ale...     325   \n",
       "63494  https://www.theguardian.com/music/2019/mar/31/...       2   \n",
       "63493  https://www.sfgate.com/science/article/poachin...      66   \n",
       "63492  https://wccftech.com/intels-first-confirmed-xe...       6   \n",
       "\n",
       "       Number of Comments  \n",
       "63496                   0  \n",
       "63495                  81  \n",
       "63494                   0  \n",
       "63493                  15  \n",
       "63492                   0  "
      ]
     },
     "execution_count": 90,
     "metadata": {},
     "output_type": "execute_result"
    }
   ],
   "source": [
    "partial.head()"
   ]
  },
  {
   "cell_type": "code",
   "execution_count": 99,
   "metadata": {},
   "outputs": [],
   "source": [
    "new_df = df.append(partial)"
   ]
  },
  {
   "cell_type": "code",
   "execution_count": 101,
   "metadata": {},
   "outputs": [
    {
     "data": {
      "text/plain": [
       "True"
      ]
     },
     "execution_count": 101,
     "metadata": {},
     "output_type": "execute_result"
    }
   ],
   "source": [
    "new_df.shape[0] == df.shape[0] + partial.shape[0]"
   ]
  },
  {
   "cell_type": "code",
   "execution_count": 103,
   "metadata": {},
   "outputs": [
    {
     "data": {
      "text/plain": [
       "False"
      ]
     },
     "execution_count": 103,
     "metadata": {},
     "output_type": "execute_result"
    }
   ],
   "source": [
    "new_df['Object ID'].duplicated().any()"
   ]
  },
  {
   "cell_type": "code",
   "execution_count": 104,
   "metadata": {},
   "outputs": [
    {
     "data": {
      "text/plain": [
       "0"
      ]
     },
     "execution_count": 104,
     "metadata": {},
     "output_type": "execute_result"
    }
   ],
   "source": [
    "new_df['Object ID'].duplicated().sum()"
   ]
  },
  {
   "cell_type": "code",
   "execution_count": 105,
   "metadata": {},
   "outputs": [],
   "source": [
    "df.to_csv('hn_data/hn.csv', index=False)"
   ]
  },
  {
   "cell_type": "code",
   "execution_count": null,
   "metadata": {},
   "outputs": [],
   "source": []
  }
 ],
 "metadata": {
  "kernelspec": {
   "display_name": "Python 3",
   "language": "python",
   "name": "python3"
  },
  "language_info": {
   "codemirror_mode": {
    "name": "ipython",
    "version": 3
   },
   "file_extension": ".py",
   "mimetype": "text/x-python",
   "name": "python",
   "nbconvert_exporter": "python",
   "pygments_lexer": "ipython3",
   "version": "3.6.4"
  }
 },
 "nbformat": 4,
 "nbformat_minor": 2
}
