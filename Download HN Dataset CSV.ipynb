{
 "cells": [
  {
   "cell_type": "code",
   "execution_count": 1,
   "metadata": {},
   "outputs": [],
   "source": [
    "import csv\n",
    "import json\n",
    "import sqlite3\n",
    "from pathlib import Path\n",
    "\n",
    "#from itertools import islice, count\n",
    "import itertools\n",
    "from datetime import datetime\n",
    "import numpy as np\n",
    "import pandas as pd\n",
    "from hn import search_by_date"
   ]
  },
  {
   "cell_type": "code",
   "execution_count": 2,
   "metadata": {},
   "outputs": [],
   "source": [
    "def get_type(post):\n",
    "    tags = post['_tags']\n",
    "    if len(tags) == 3 or (len(tags) == 4 and tags[-1] == 'front_page'):\n",
    "        return tags[0]\n",
    "    elif len(tags) == 4:\n",
    "        return tags[-1]\n",
    "\n",
    "    return tags[-2]\n",
    "\n",
    "\"\"\"\n",
    "import logging\n",
    "\n",
    "logger = logging.getLogger('hn')\n",
    "\n",
    "logger.setLevel(logging.DEBUG)\n",
    "ch = logging.StreamHandler()\n",
    "ch.setLevel(logging.DEBUG)\n",
    "formatter = logging.Formatter('%(asctime)s - %(name)s - %(levelname)s - %(message)s')\n",
    "ch.setFormatter(formatter)\n",
    "logger.addHandler(ch)\n",
    "\"\"\"\n",
    "None"
   ]
  },
  {
   "cell_type": "markdown",
   "metadata": {},
   "source": [
    "##### Updated with latest posts"
   ]
  },
  {
   "cell_type": "code",
   "execution_count": 3,
   "metadata": {
    "scrolled": true
   },
   "outputs": [
    {
     "data": {
      "text/plain": [
       "['Title',\n",
       " 'Post Type',\n",
       " 'Author',\n",
       " 'Object ID',\n",
       " 'Created At',\n",
       " 'URL',\n",
       " 'Points',\n",
       " 'Number of Comments']"
      ]
     },
     "execution_count": 3,
     "metadata": {},
     "output_type": "execute_result"
    }
   ],
   "source": [
    "COLUMNS_STR = \"Title,Post Type,Author,Object ID,Created At,URL,Points,Number of Comments\"\n",
    "COLUMNS = COLUMNS_STR.split(',')\n",
    "COLUMNS"
   ]
  },
  {
   "cell_type": "code",
   "execution_count": 4,
   "metadata": {},
   "outputs": [],
   "source": [
    "BASE_DATA_DIRECTORY = Path('hn_data/')\n",
    "assert BASE_DATA_DIRECTORY.exists()"
   ]
  },
  {
   "cell_type": "code",
   "execution_count": 5,
   "metadata": {},
   "outputs": [],
   "source": [
    "MAIN_DATA_FILE = BASE_DATA_DIRECTORY / 'hn.csv'  # new data will be appended to this file"
   ]
  },
  {
   "cell_type": "code",
   "execution_count": 6,
   "metadata": {},
   "outputs": [],
   "source": [
    "LIMIT = 5000\n",
    "BUFFER_SIZE = 1024 * 1024 * 100"
   ]
  },
  {
   "cell_type": "code",
   "execution_count": 7,
   "metadata": {},
   "outputs": [
    {
     "data": {
      "text/html": [
       "<div>\n",
       "<style scoped>\n",
       "    .dataframe tbody tr th:only-of-type {\n",
       "        vertical-align: middle;\n",
       "    }\n",
       "\n",
       "    .dataframe tbody tr th {\n",
       "        vertical-align: top;\n",
       "    }\n",
       "\n",
       "    .dataframe thead th {\n",
       "        text-align: right;\n",
       "    }\n",
       "</style>\n",
       "<table border=\"1\" class=\"dataframe\">\n",
       "  <thead>\n",
       "    <tr style=\"text-align: right;\">\n",
       "      <th></th>\n",
       "      <th>Title</th>\n",
       "      <th>Post Type</th>\n",
       "      <th>Author</th>\n",
       "      <th>Object ID</th>\n",
       "      <th>Created At</th>\n",
       "      <th>URL</th>\n",
       "      <th>Points</th>\n",
       "      <th>Number of Comments</th>\n",
       "    </tr>\n",
       "  </thead>\n",
       "  <tbody>\n",
       "    <tr>\n",
       "      <th>0</th>\n",
       "      <td>The real connection between interview performa...</td>\n",
       "      <td>story</td>\n",
       "      <td>leeny</td>\n",
       "      <td>19256573</td>\n",
       "      <td>1551203302</td>\n",
       "      <td>http://blog.interviewing.io/there-is-a-real-co...</td>\n",
       "      <td>1</td>\n",
       "      <td>0.0</td>\n",
       "    </tr>\n",
       "  </tbody>\n",
       "</table>\n",
       "</div>"
      ],
      "text/plain": [
       "                                               Title Post Type Author  \\\n",
       "0  The real connection between interview performa...     story  leeny   \n",
       "\n",
       "   Object ID  Created At                                                URL  \\\n",
       "0   19256573  1551203302  http://blog.interviewing.io/there-is-a-real-co...   \n",
       "\n",
       "   Points  Number of Comments  \n",
       "0       1                 0.0  "
      ]
     },
     "execution_count": 7,
     "metadata": {},
     "output_type": "execute_result"
    }
   ],
   "source": [
    "pd.read_csv(MAIN_DATA_FILE, nrows=1)"
   ]
  },
  {
   "cell_type": "code",
   "execution_count": 8,
   "metadata": {},
   "outputs": [
    {
     "data": {
      "text/plain": [
       "datetime.datetime(2019, 2, 26, 17, 48, 22)"
      ]
     },
     "execution_count": 8,
     "metadata": {},
     "output_type": "execute_result"
    }
   ],
   "source": [
    "last_datetime = pd.read_csv(MAIN_DATA_FILE, nrows=1).loc[0, 'Created At']\n",
    "\n",
    "last_datetime = datetime.utcfromtimestamp(last_datetime)\n",
    "last_datetime"
   ]
  },
  {
   "cell_type": "code",
   "execution_count": 9,
   "metadata": {},
   "outputs": [],
   "source": [
    "results = search_by_date(\n",
    "    stories=True, ask_hn=True, show_hn=True, polls=True, hits_per_page=1000,\n",
    "    created_at__gt=last_datetime.strftime('%Y-%m-%d %H:%M:%S'))"
   ]
  },
  {
   "cell_type": "code",
   "execution_count": 10,
   "metadata": {
    "scrolled": true
   },
   "outputs": [
    {
     "name": "stdout",
     "output_type": "stream",
     "text": [
      "New data will be saved into 'partial_hn.csv'\n"
     ]
    }
   ],
   "source": [
    "#NEW_FILE_NAME = f\"partial_hn_{int(datetime.utcnow().timestamp())}.csv\"\n",
    "NEW_FILE_NAME = f\"partial_hn.csv\"\n",
    "NEW_FILE_PATH = BASE_DATA_DIRECTORY / NEW_FILE_NAME\n",
    "print(f\"New data will be saved into '{NEW_FILE_NAME}'\")"
   ]
  },
  {
   "cell_type": "code",
   "execution_count": 11,
   "metadata": {
    "scrolled": true
   },
   "outputs": [
    {
     "name": "stdout",
     "output_type": "stream",
     "text": [
      "Saved 10000 records\n",
      "Saved 20000 records\n",
      "Saved 30000 records\n",
      "Saved 40000 records\n",
      "Saved 50000 records\n",
      "Saved 60000 records\n",
      "Saved 70000 records\n",
      "Saved 80000 records\n",
      "Saved 90000 records\n",
      "DONE. No more posts to process.\n"
     ]
    }
   ],
   "source": [
    "#assert False, \"WARNING: Comment me out\"\n",
    "\n",
    "with NEW_FILE_PATH.open('w', buffering=BUFFER_SIZE) as fp:\n",
    "    writer = csv.writer(fp)\n",
    "    for step in itertools.count():\n",
    "        chunk = itertools.islice(results, 1000)\n",
    "        posts = [(\n",
    "            post['title'],\n",
    "            get_type(post),\n",
    "            post['author'],\n",
    "            post['objectID'],\n",
    "            post['created_at_i'],\n",
    "            post['url'],\n",
    "            post['points'],\n",
    "            post['num_comments'],\n",
    "        ) for post in chunk]\n",
    "        if not posts:\n",
    "            print(\"DONE. No more posts to process.\")\n",
    "            break\n",
    "        if step > LIMIT:\n",
    "            print(\"Limit %s exceeded. Quitting.\" % LIMIT)\n",
    "            break\n",
    "\n",
    "        writer.writerows(posts)\n",
    "        if (step + 1) % 10 == 0:\n",
    "            print(\"Saved %s records\" % ((step + 1) * 1000))"
   ]
  },
  {
   "cell_type": "markdown",
   "metadata": {},
   "source": [
    "New downloaded partial file:"
   ]
  },
  {
   "cell_type": "code",
   "execution_count": 12,
   "metadata": {
    "scrolled": true
   },
   "outputs": [
    {
     "name": "stdout",
     "output_type": "stream",
     "text": [
      "   90856 hn_data/partial_hn.csv\r\n"
     ]
    }
   ],
   "source": [
    "!wc -l hn_data/partial_hn.csv"
   ]
  },
  {
   "cell_type": "markdown",
   "metadata": {},
   "source": [
    "Previews `hn.csv` file:"
   ]
  },
  {
   "cell_type": "code",
   "execution_count": 13,
   "metadata": {},
   "outputs": [
    {
     "name": "stdout",
     "output_type": "stream",
     "text": [
      " 2645700 hn_data/hn.csv\r\n"
     ]
    }
   ],
   "source": [
    "!wc -l hn_data/hn.csv"
   ]
  },
  {
   "cell_type": "code",
   "execution_count": 88,
   "metadata": {},
   "outputs": [],
   "source": [
    "!cat hn_data/partial_hn.csv >> hn_data/hn.csv"
   ]
  },
  {
   "cell_type": "code",
   "execution_count": 89,
   "metadata": {},
   "outputs": [
    {
     "name": "stdout",
     "output_type": "stream",
     "text": [
      " 2645700 hn_data/hn.csv\r\n"
     ]
    }
   ],
   "source": [
    "!wc -l hn_data/hn.csv"
   ]
  },
  {
   "cell_type": "markdown",
   "metadata": {},
   "source": [
    "---"
   ]
  },
  {
   "cell_type": "markdown",
   "metadata": {},
   "source": [
    "## Cleaning downloaded posts"
   ]
  },
  {
   "cell_type": "code",
   "execution_count": 90,
   "metadata": {},
   "outputs": [],
   "source": [
    "import pandas as pd"
   ]
  },
  {
   "cell_type": "code",
   "execution_count": 91,
   "metadata": {},
   "outputs": [],
   "source": [
    "df = pd.read_csv('hn_data/hn.csv', dtype={'Post Type':'category'})"
   ]
  },
  {
   "cell_type": "code",
   "execution_count": 92,
   "metadata": {},
   "outputs": [],
   "source": [
    "df['Created At'] = pd.to_datetime(df['Created At'], unit='s')"
   ]
  },
  {
   "cell_type": "code",
   "execution_count": 93,
   "metadata": {
    "scrolled": true
   },
   "outputs": [
    {
     "name": "stdout",
     "output_type": "stream",
     "text": [
      "<class 'pandas.core.frame.DataFrame'>\n",
      "RangeIndex: 2645334 entries, 0 to 2645333\n",
      "Data columns (total 8 columns):\n",
      "Title                 object\n",
      "Post Type             category\n",
      "Author                object\n",
      "Object ID             int64\n",
      "Created At            datetime64[ns]\n",
      "URL                   object\n",
      "Points                int64\n",
      "Number of Comments    float64\n",
      "dtypes: category(1), datetime64[ns](1), float64(1), int64(2), object(3)\n",
      "memory usage: 143.8+ MB\n"
     ]
    }
   ],
   "source": [
    "df.info()"
   ]
  },
  {
   "cell_type": "code",
   "execution_count": 94,
   "metadata": {
    "scrolled": false
   },
   "outputs": [
    {
     "data": {
      "text/html": [
       "<div>\n",
       "<style scoped>\n",
       "    .dataframe tbody tr th:only-of-type {\n",
       "        vertical-align: middle;\n",
       "    }\n",
       "\n",
       "    .dataframe tbody tr th {\n",
       "        vertical-align: top;\n",
       "    }\n",
       "\n",
       "    .dataframe thead th {\n",
       "        text-align: right;\n",
       "    }\n",
       "</style>\n",
       "<table border=\"1\" class=\"dataframe\">\n",
       "  <thead>\n",
       "    <tr style=\"text-align: right;\">\n",
       "      <th></th>\n",
       "      <th>Title</th>\n",
       "      <th>Post Type</th>\n",
       "      <th>Author</th>\n",
       "      <th>Object ID</th>\n",
       "      <th>Created At</th>\n",
       "      <th>URL</th>\n",
       "      <th>Points</th>\n",
       "      <th>Number of Comments</th>\n",
       "    </tr>\n",
       "  </thead>\n",
       "  <tbody>\n",
       "    <tr>\n",
       "      <th>0</th>\n",
       "      <td>The real connection between interview performa...</td>\n",
       "      <td>story</td>\n",
       "      <td>leeny</td>\n",
       "      <td>19256573</td>\n",
       "      <td>2019-02-26 17:48:22</td>\n",
       "      <td>http://blog.interviewing.io/there-is-a-real-co...</td>\n",
       "      <td>1</td>\n",
       "      <td>0.0</td>\n",
       "    </tr>\n",
       "    <tr>\n",
       "      <th>1</th>\n",
       "      <td>Disco: Modern Session Encryption</td>\n",
       "      <td>story</td>\n",
       "      <td>baby</td>\n",
       "      <td>19256570</td>\n",
       "      <td>2019-02-26 17:48:05</td>\n",
       "      <td>https://eprint.iacr.org/2019/180</td>\n",
       "      <td>2</td>\n",
       "      <td>0.0</td>\n",
       "    </tr>\n",
       "    <tr>\n",
       "      <th>2</th>\n",
       "      <td>Selenized: A CIELAB color space theme for term...</td>\n",
       "      <td>story</td>\n",
       "      <td>pera</td>\n",
       "      <td>19256558</td>\n",
       "      <td>2019-02-26 17:47:03</td>\n",
       "      <td>https://github.com/jan-warchol/selenized</td>\n",
       "      <td>2</td>\n",
       "      <td>0.0</td>\n",
       "    </tr>\n",
       "    <tr>\n",
       "      <th>3</th>\n",
       "      <td>What Do Humanitarian Groups Do with Surplus Su...</td>\n",
       "      <td>story</td>\n",
       "      <td>tshannon</td>\n",
       "      <td>19256554</td>\n",
       "      <td>2019-02-26 17:46:45</td>\n",
       "      <td>https://www.npr.org/sections/goatsandsoda/2019...</td>\n",
       "      <td>2</td>\n",
       "      <td>0.0</td>\n",
       "    </tr>\n",
       "    <tr>\n",
       "      <th>4</th>\n",
       "      <td>New TLS Padding Oracles</td>\n",
       "      <td>story</td>\n",
       "      <td>jakobdabo</td>\n",
       "      <td>19256553</td>\n",
       "      <td>2019-02-26 17:46:43</td>\n",
       "      <td>https://github.com/RUB-NDS/TLS-Padding-Oracles</td>\n",
       "      <td>2</td>\n",
       "      <td>0.0</td>\n",
       "    </tr>\n",
       "  </tbody>\n",
       "</table>\n",
       "</div>"
      ],
      "text/plain": [
       "                                               Title Post Type     Author  \\\n",
       "0  The real connection between interview performa...     story      leeny   \n",
       "1                   Disco: Modern Session Encryption     story       baby   \n",
       "2  Selenized: A CIELAB color space theme for term...     story       pera   \n",
       "3  What Do Humanitarian Groups Do with Surplus Su...     story   tshannon   \n",
       "4                            New TLS Padding Oracles     story  jakobdabo   \n",
       "\n",
       "   Object ID          Created At  \\\n",
       "0   19256573 2019-02-26 17:48:22   \n",
       "1   19256570 2019-02-26 17:48:05   \n",
       "2   19256558 2019-02-26 17:47:03   \n",
       "3   19256554 2019-02-26 17:46:45   \n",
       "4   19256553 2019-02-26 17:46:43   \n",
       "\n",
       "                                                 URL  Points  \\\n",
       "0  http://blog.interviewing.io/there-is-a-real-co...       1   \n",
       "1                   https://eprint.iacr.org/2019/180       2   \n",
       "2           https://github.com/jan-warchol/selenized       2   \n",
       "3  https://www.npr.org/sections/goatsandsoda/2019...       2   \n",
       "4     https://github.com/RUB-NDS/TLS-Padding-Oracles       2   \n",
       "\n",
       "   Number of Comments  \n",
       "0                 0.0  \n",
       "1                 0.0  \n",
       "2                 0.0  \n",
       "3                 0.0  \n",
       "4                 0.0  "
      ]
     },
     "execution_count": 94,
     "metadata": {},
     "output_type": "execute_result"
    }
   ],
   "source": [
    "df.head()"
   ]
  },
  {
   "cell_type": "code",
   "execution_count": 95,
   "metadata": {
    "scrolled": true
   },
   "outputs": [],
   "source": [
    "assert df['Object ID'].dtype == np.int"
   ]
  },
  {
   "cell_type": "code",
   "execution_count": 96,
   "metadata": {},
   "outputs": [
    {
     "data": {
      "text/plain": [
       "(2645334, 8)"
      ]
     },
     "execution_count": 96,
     "metadata": {},
     "output_type": "execute_result"
    }
   ],
   "source": [
    "df.shape"
   ]
  },
  {
   "cell_type": "code",
   "execution_count": 98,
   "metadata": {},
   "outputs": [
    {
     "data": {
      "text/plain": [
       "0"
      ]
     },
     "execution_count": 98,
     "metadata": {},
     "output_type": "execute_result"
    }
   ],
   "source": [
    "df.duplicated('Object ID').sum()"
   ]
  }
 ],
 "metadata": {
  "kernelspec": {
   "display_name": "Python 3",
   "language": "python",
   "name": "python3"
  },
  "language_info": {
   "codemirror_mode": {
    "name": "ipython",
    "version": 3
   },
   "file_extension": ".py",
   "mimetype": "text/x-python",
   "name": "python",
   "nbconvert_exporter": "python",
   "pygments_lexer": "ipython3",
   "version": "3.6.4"
  }
 },
 "nbformat": 4,
 "nbformat_minor": 2
}
